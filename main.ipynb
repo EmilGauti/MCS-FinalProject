{
 "cells": [
  {
   "cell_type": "code",
   "execution_count": 13,
   "metadata": {},
   "outputs": [
    {
     "name": "stdout",
     "output_type": "stream",
     "text": [
      "1.0 1.0 0.01\n",
      "1.0595305009358078 1.0 0.01\n"
     ]
    }
   ],
   "source": [
    "from helper_functions import *\n",
    "bob = Bob()\n",
    "print(bob.speed, bob.mass, bob.vision)\n",
    "mutation_rate = [0.1,0.1,0.01]\n",
    "bob.mutate(mutation_rate)\n",
    "print(bob.speed, bob.mass, bob.vision)\n"
   ]
  }
 ],
 "metadata": {
  "interpreter": {
   "hash": "b145209563981d8a96e430a751b72b2a4c1e51ac83c439f2f65831069d511819"
  },
  "kernelspec": {
   "display_name": "Python 3.9.7",
   "language": "python",
   "name": "python3"
  },
  "language_info": {
   "codemirror_mode": {
    "name": "ipython",
    "version": 3
   },
   "file_extension": ".py",
   "mimetype": "text/x-python",
   "name": "python",
   "nbconvert_exporter": "python",
   "pygments_lexer": "ipython3",
   "version": "3.9.7"
  },
  "orig_nbformat": 4
 },
 "nbformat": 4,
 "nbformat_minor": 2
}
